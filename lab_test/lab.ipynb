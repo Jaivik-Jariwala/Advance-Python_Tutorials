{
 "cells": [
  {
   "cell_type": "code",
   "execution_count": null,
   "metadata": {},
   "outputs": [],
   "source": [
    "import pandas as pd\n",
    "import numpy as np\n",
    "import logging\n",
    "import datetime"
   ]
  },
  {
   "cell_type": "code",
   "execution_count": null,
   "metadata": {},
   "outputs": [],
   "source": [
    "filename =\"sales_data.csv\"\n"
   ]
  },
  {
   "cell_type": "code",
   "execution_count": null,
   "metadata": {},
   "outputs": [],
   "source": [
    "logging.basicConfig(filename='sales_data.csv', level=logging.INFO, format='%(asctime)s - %(levelname)s - %(message)s')\n"
   ]
  },
  {
   "cell_type": "code",
   "execution_count": null,
   "metadata": {},
   "outputs": [],
   "source": [
    "\n",
    "def read_dataset(filename):\n",
    "    try:\n",
    "        df = pd.read_csv(filename)\n",
    "        logging.info(\"Dataset read successfully\")\n",
    "        return df\n",
    "    except Exception as e:\n",
    "        logging.error(f\"Error reading dataset: {str(e)}\")\n",
    "        return None"
   ]
  },
  {
   "cell_type": "code",
   "execution_count": null,
   "metadata": {},
   "outputs": [],
   "source": [
    "def display_first_rows(df):\n",
    "    if df is not None:\n",
    "        print(df.head(3))\n"
   ]
  },
  {
   "cell_type": "code",
   "execution_count": null,
   "metadata": {},
   "outputs": [],
   "source": [
    "def save_updated_dataset(df, Updated_dataset):\n",
    "    try:\n",
    "        df.to_csv(Updated_dataset, index=False)\n",
    "        logging.info(f\"Dataset saved to a new file: {Updated_dataset}\")\n",
    "    except Exception as e:\n",
    "        logging.error(f\"Error saving dataset: {str(e)}\")\n"
   ]
  },
  {
   "cell_type": "code",
   "execution_count": null,
   "metadata": {},
   "outputs": [],
   "source": [
    "def calculate_totals(df):\n",
    "    if df is not None:\n",
    "        total_sales = np.sum(df['Sales'])\n",
    "        total_profit = np.sum(df['Profit'])\n",
    "        logging.info(f\"Total Sales: {total_sales}\")\n",
    "        logging.info(f\"Total Profit: {total_profit}\")\n"
   ]
  },
  {
   "cell_type": "code",
   "execution_count": null,
   "metadata": {},
   "outputs": [],
   "source": [
    "\n",
    "def filter_dataset(df):\n",
    "    if df is not None:\n",
    "        filtered_df = df[df['Sales'] > 500]\n",
    "        print(\"Rows with sales > 500:\")\n",
    "        print(filtered_df)\n"
   ]
  },
  {
   "cell_type": "code",
   "execution_count": null,
   "metadata": {},
   "outputs": [],
   "source": [
    "\n",
    "def run_daily_task():\n",
    "    logging.info(\"Daily task started at {}\".format(datetime.datetime.now()))\n",
    "    df = read_dataset('Sales_data.csv')\n",
    "    display_first_rows(df)\n",
    "    calculate_totals(df)\n",
    "    filter_dataset(df)\n",
    "    save_updated_dataset(df, 'updated_Sales_data.csv')\n",
    "    logging.info(\"Daily task completed at {}\".format(datetime.datetime.now()))\n"
   ]
  },
  {
   "cell_type": "code",
   "execution_count": null,
   "metadata": {},
   "outputs": [],
   "source": [
    "if __name__ == '_main_':\n",
    "    run_daily_task()"
   ]
  }
 ],
 "metadata": {
  "kernelspec": {
   "display_name": "Python 3",
   "language": "python",
   "name": "python3"
  },
  "language_info": {
   "codemirror_mode": {
    "name": "ipython",
    "version": 3
   },
   "file_extension": ".py",
   "mimetype": "text/x-python",
   "name": "python",
   "nbconvert_exporter": "python",
   "pygments_lexer": "ipython3",
   "version": "3.10.11"
  }
 },
 "nbformat": 4,
 "nbformat_minor": 2
}
